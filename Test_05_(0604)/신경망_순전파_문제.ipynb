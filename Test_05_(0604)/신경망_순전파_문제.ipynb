{
 "cells": [
  {
   "cell_type": "code",
   "execution_count": null,
   "metadata": {
    "colab": {},
    "colab_type": "code",
    "id": "PfEpI4_i65Ae"
   },
   "outputs": [],
   "source": [
    "import os\n",
    "import numpy as np\n",
    "import pandas as pd\n",
    "\n",
    "if not os.path.exists(\"./cancer_dataset.csv\"):\n",
    "    !wget https://s3.ap-northeast-2.amazonaws.com/pai-datasets/alai-deeplearning/cancer_dataset.csv\n",
    "cancer_df = pd.read_csv('cancer_dataset.csv')\n"
   ]
  },
  {
   "cell_type": "code",
   "execution_count": null,
   "metadata": {
    "colab": {},
    "colab_type": "code",
    "id": "ZfdrdbEY65BB"
   },
   "outputs": [],
   "source": [
    "# keras Input, Dense Import\n",
    "# Fix Me!!\n",
    "\n",
    "from tensorflow.keras import backend as K\n",
    "\n",
    "K.clear_session()\n",
    "\n",
    "# 신경망 구현\n",
    "# Fix Me!!\n",
    "\n",
    "# 신경망 모델 생성\n",
    "model = Model(inputs, output, name='train')"
   ]
  },
  {
   "cell_type": "code",
   "execution_count": null,
   "metadata": {
    "colab": {
     "base_uri": "https://localhost:8080/",
     "height": 279
    },
    "colab_type": "code",
    "executionInfo": {
     "elapsed": 594,
     "status": "ok",
     "timestamp": 1578550886703,
     "user": {
      "displayName": "Moonyong Kim",
      "photoUrl": "",
      "userId": "11814464037575298792"
     },
     "user_tz": -540
    },
    "id": "5mBjqWst65BD",
    "outputId": "21650d3b-0490-4006-db48-aca453e5e259",
    "scrolled": true
   },
   "outputs": [],
   "source": [
    "model.summary()"
   ]
  },
  {
   "cell_type": "code",
   "execution_count": null,
   "metadata": {},
   "outputs": [],
   "source": [
    "X = cancer_df[['age','tumor_size']]\n",
    "X = (X - X.min()) / (X.max() - X.min())\n",
    "\n",
    "model.predict(X)"
   ]
  },
  {
   "cell_type": "code",
   "execution_count": null,
   "metadata": {
    "colab": {
     "base_uri": "https://localhost:8080/",
     "height": 391
    },
    "colab_type": "code",
    "executionInfo": {
     "elapsed": 624,
     "status": "ok",
     "timestamp": 1578550924480,
     "user": {
      "displayName": "Moonyong Kim",
      "photoUrl": "",
      "userId": "11814464037575298792"
     },
     "user_tz": -540
    },
    "id": "7lFKjSDO65BK",
    "outputId": "c6bf5602-f212-4995-ebb0-ff7a529b1f3d",
    "scrolled": true
   },
   "outputs": [],
   "source": [
    "# hidden, output layer의 가중치와 편향 ( W1, B1, W2, B2 )\n",
    "# Fix Me!!\n",
    "\n",
    "np.set_printoptions(3)\n",
    "print(\"W1 >>>\")\n",
    "display(W1)\n",
    "print(\"B1 >>>\")\n",
    "display(B1)\n",
    "print(\"W2 >>>\")\n",
    "display(W2)\n",
    "print(\"B2 >>>\")\n",
    "display(B2)"
   ]
  },
  {
   "cell_type": "code",
   "execution_count": null,
   "metadata": {
    "colab": {},
    "colab_type": "code",
    "id": "yCqNcHIU65BM"
   },
   "outputs": [],
   "source": [
    "X = cancer_df[['age','tumor_size']].values\n",
    "\n",
    "# hidden 레이어 처리 ( = X * W1 + B1 )\n",
    "# Fix Me!!\n"
   ]
  },
  {
   "cell_type": "code",
   "execution_count": null,
   "metadata": {
    "colab": {},
    "colab_type": "code",
    "id": "HO9aL_FX65BO"
   },
   "outputs": [],
   "source": [
    "# hidden 레이어 활성함수 Relu 처리 \n",
    "# Fix Me!!\n"
   ]
  },
  {
   "cell_type": "code",
   "execution_count": null,
   "metadata": {
    "colab": {},
    "colab_type": "code",
    "id": "p0AiQmjD65BQ",
    "scrolled": true
   },
   "outputs": [],
   "source": [
    "# output 레이어 처리 ( = hidden * W2 + B2 )\n",
    "# Fix Me!!\n"
   ]
  },
  {
   "cell_type": "code",
   "execution_count": null,
   "metadata": {
    "colab": {
     "base_uri": "https://localhost:8080/",
     "height": 1000
    },
    "colab_type": "code",
    "executionInfo": {
     "elapsed": 671,
     "status": "ok",
     "timestamp": 1578551799795,
     "user": {
      "displayName": "Moonyong Kim",
      "photoUrl": "",
      "userId": "11814464037575298792"
     },
     "user_tz": -540
    },
    "id": "SbXDK2tw65BR",
    "outputId": "3dcc98c2-92ee-4c24-f047-05da65639d04",
    "scrolled": true
   },
   "outputs": [],
   "source": [
    "# output 레이어 활성함수 Sigmoid 처리 \n",
    "# Fix Me!!\n",
    "\n",
    "print(np_output)"
   ]
  },
  {
   "cell_type": "code",
   "execution_count": null,
   "metadata": {
    "colab": {},
    "colab_type": "code",
    "id": "bWqAE1mS65BT"
   },
   "outputs": [],
   "source": [
    "keras_output = model.predict(cancer_df[['age','tumor_size']])\n",
    "np.testing.assert_array_almost_equal(np_output, keras_output)\n",
    "print(keras_output)\n",
    "print(np_output)\n"
   ]
  }
 ],
 "metadata": {
  "colab": {
   "collapsed_sections": [],
   "name": "5_신경망의 순전파.ipynb",
   "provenance": [
    {
     "file_id": "https://github.com/public-ai/Multicampus_Vision_Lecture_deploy/blob/master/lecture-codes/Week1/Day3/5_%EC%8B%A0%EA%B2%BD%EB%A7%9D%EC%9D%98%20%EC%88%9C%EC%A0%84%ED%8C%8C.ipynb",
     "timestamp": 1578550145366
    }
   ]
  },
  "kernelspec": {
   "display_name": "Python 3",
   "language": "python",
   "name": "python3"
  },
  "language_info": {
   "codemirror_mode": {
    "name": "ipython",
    "version": 3
   },
   "file_extension": ".py",
   "mimetype": "text/x-python",
   "name": "python",
   "nbconvert_exporter": "python",
   "pygments_lexer": "ipython3",
   "version": "3.7.5"
  }
 },
 "nbformat": 4,
 "nbformat_minor": 1
}
