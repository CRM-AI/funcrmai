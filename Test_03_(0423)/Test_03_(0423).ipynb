{
  "nbformat": 4,
  "nbformat_minor": 0,
  "metadata": {
    "colab": {
      "name": "Untitled8.ipynb",
      "provenance": []
    },
    "kernelspec": {
      "name": "python3",
      "display_name": "Python 3"
    }
  },
  "cells": [
    {
      "cell_type": "code",
      "metadata": {
        "id": "bCt-I5eIAfK-",
        "colab_type": "code",
        "colab": {}
      },
      "source": [
        "import pandas as pd\n",
        "import numpy as np\n",
        "\n",
        "import matplotlib.pyplot as plt\n"
      ],
      "execution_count": 0,
      "outputs": []
    },
    {
      "cell_type": "code",
      "metadata": {
        "id": "L39etdK6AkCa",
        "colab_type": "code",
        "colab": {}
      },
      "source": [
        "# 드라마 장르는 하이틴(1) 과 멜로(0)로 나뉩니다\n",
        "genre_df = pd.read_csv(\"drama_genre.csv\")\n",
        "genre_df.tail(100)"
      ],
      "execution_count": 0,
      "outputs": []
    },
    {
      "cell_type": "code",
      "metadata": {
        "id": "7g3E8jtoAmBg",
        "colab_type": "code",
        "colab": {}
      },
      "source": [
        "# 데이터 정규화를 해주세요\n"
      ],
      "execution_count": 0,
      "outputs": []
    },
    {
      "cell_type": "code",
      "metadata": {
        "id": "KIwI15WaAssK",
        "colab_type": "code",
        "colab": {}
      },
      "source": [
        "# 독립변수, 종속변수를 정하고, 값을 넣어주세요\n"
      ],
      "execution_count": 0,
      "outputs": []
    },
    {
      "cell_type": "code",
      "metadata": {
        "id": "77JCheMgAx6n",
        "colab_type": "code",
        "colab": {}
      },
      "source": [
        "# w0,w1,w2의 값을 미리 지정해주세요\n"
      ],
      "execution_count": 0,
      "outputs": []
    },
    {
      "cell_type": "code",
      "metadata": {
        "id": "1ZKU-G0vBINd",
        "colab_type": "code",
        "colab": {}
      },
      "source": [
        "# Gradient Descent를 활용하여 Logistic Regression을 진행해주세요\n"
      ],
      "execution_count": 0,
      "outputs": []
    },
    {
      "cell_type": "code",
      "metadata": {
        "id": "7k61djYbBNLy",
        "colab_type": "code",
        "colab": {}
      },
      "source": [
        "# 손실함수가 어떤모양의 그래프로 그려졌는지 확인해주세요\n"
      ],
      "execution_count": 0,
      "outputs": []
    },
    {
      "cell_type": "code",
      "metadata": {
        "id": "qRZE4rhKBY8t",
        "colab_type": "code",
        "colab": {}
      },
      "source": [
        "# x절편과 y절편을 구해주세요\n"
      ],
      "execution_count": 0,
      "outputs": []
    },
    {
      "cell_type": "code",
      "metadata": {
        "id": "Yrp94rd8BjQV",
        "colab_type": "code",
        "colab": {}
      },
      "source": [
        "# drama_genre 데이터 그래프와 분류 선이 어떻게 적용됐는지 그래프로 시각화 해보세요\n"
      ],
      "execution_count": 0,
      "outputs": []
    }
  ]
}