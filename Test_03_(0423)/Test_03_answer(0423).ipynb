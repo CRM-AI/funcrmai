{
  "nbformat": 4,
  "nbformat_minor": 0,
  "metadata": {
    "kernelspec": {
      "display_name": "Python 3",
      "language": "python",
      "name": "python3"
    },
    "language_info": {
      "codemirror_mode": {
        "name": "ipython",
        "version": 3
      },
      "file_extension": ".py",
      "mimetype": "text/x-python",
      "name": "python",
      "nbconvert_exporter": "python",
      "pygments_lexer": "ipython3",
      "version": "3.7.4"
    },
    "colab": {
      "name": "07_pandas_titanic_model-checkpoint.ipynb",
      "provenance": [],
      "toc_visible": true
    }
  },
  "cells": [
    {
      "cell_type": "code",
      "metadata": {
        "id": "dOZo5BKi0Vfl",
        "colab_type": "code",
        "colab": {}
      },
      "source": [
        "import pandas as pd\n",
        "import numpy as np\n",
        "\n",
        "import matplotlib.pyplot as plt\n"
      ],
      "execution_count": 0,
      "outputs": []
    },
    {
      "cell_type": "code",
      "metadata": {
        "id": "UB3rTuIu1Q0X",
        "colab_type": "code",
        "colab": {
          "base_uri": "https://localhost:8080/",
          "height": 35
        },
        "outputId": "4f479e6a-bad2-4e0b-8f5a-9584f7ef6cb5"
      },
      "source": [
        "ls"
      ],
      "execution_count": 47,
      "outputs": [
        {
          "output_type": "stream",
          "text": [
            "drama_genre.csv  \u001b[0m\u001b[01;34msample_data\u001b[0m/\n"
          ],
          "name": "stdout"
        }
      ]
    },
    {
      "cell_type": "code",
      "metadata": {
        "id": "HgcoLJfO0Vfr",
        "colab_type": "code",
        "colab": {
          "base_uri": "https://localhost:8080/",
          "height": 419
        },
        "outputId": "87e2b010-5e02-4b34-a849-92c2def4310c"
      },
      "source": [
        "genre_df = pd.read_csv(\"drama_genre.csv\")\n",
        "genre_df.tail(100)"
      ],
      "execution_count": 67,
      "outputs": [
        {
          "output_type": "execute_result",
          "data": {
            "text/html": [
              "<div>\n",
              "<style scoped>\n",
              "    .dataframe tbody tr th:only-of-type {\n",
              "        vertical-align: middle;\n",
              "    }\n",
              "\n",
              "    .dataframe tbody tr th {\n",
              "        vertical-align: top;\n",
              "    }\n",
              "\n",
              "    .dataframe thead th {\n",
              "        text-align: right;\n",
              "    }\n",
              "</style>\n",
              "<table border=\"1\" class=\"dataframe\">\n",
              "  <thead>\n",
              "    <tr style=\"text-align: right;\">\n",
              "      <th></th>\n",
              "      <th>sum_age_mainactors</th>\n",
              "      <th>avg_slap_face</th>\n",
              "      <th>genre</th>\n",
              "    </tr>\n",
              "  </thead>\n",
              "  <tbody>\n",
              "    <tr>\n",
              "      <th>0</th>\n",
              "      <td>46.000000</td>\n",
              "      <td>0.175000</td>\n",
              "      <td>1</td>\n",
              "    </tr>\n",
              "    <tr>\n",
              "      <th>1</th>\n",
              "      <td>44.000000</td>\n",
              "      <td>0.175000</td>\n",
              "      <td>1</td>\n",
              "    </tr>\n",
              "    <tr>\n",
              "      <th>2</th>\n",
              "      <td>42.000000</td>\n",
              "      <td>0.162500</td>\n",
              "      <td>1</td>\n",
              "    </tr>\n",
              "    <tr>\n",
              "      <th>3</th>\n",
              "      <td>41.000000</td>\n",
              "      <td>0.187500</td>\n",
              "      <td>1</td>\n",
              "    </tr>\n",
              "    <tr>\n",
              "      <th>4</th>\n",
              "      <td>45.000000</td>\n",
              "      <td>0.175000</td>\n",
              "      <td>1</td>\n",
              "    </tr>\n",
              "    <tr>\n",
              "      <th>...</th>\n",
              "      <td>...</td>\n",
              "      <td>...</td>\n",
              "      <td>...</td>\n",
              "    </tr>\n",
              "    <tr>\n",
              "      <th>95</th>\n",
              "      <td>57.425381</td>\n",
              "      <td>0.567538</td>\n",
              "      <td>0</td>\n",
              "    </tr>\n",
              "    <tr>\n",
              "      <th>96</th>\n",
              "      <td>57.455871</td>\n",
              "      <td>0.570587</td>\n",
              "      <td>0</td>\n",
              "    </tr>\n",
              "    <tr>\n",
              "      <th>97</th>\n",
              "      <td>62.471506</td>\n",
              "      <td>0.584651</td>\n",
              "      <td>0</td>\n",
              "    </tr>\n",
              "    <tr>\n",
              "      <th>98</th>\n",
              "      <td>46.478691</td>\n",
              "      <td>0.422869</td>\n",
              "      <td>0</td>\n",
              "    </tr>\n",
              "    <tr>\n",
              "      <th>99</th>\n",
              "      <td>57.516896</td>\n",
              "      <td>0.564190</td>\n",
              "      <td>0</td>\n",
              "    </tr>\n",
              "  </tbody>\n",
              "</table>\n",
              "<p>100 rows × 3 columns</p>\n",
              "</div>"
            ],
            "text/plain": [
              "    sum_age_mainactors  avg_slap_face  genre\n",
              "0            46.000000       0.175000      1\n",
              "1            44.000000       0.175000      1\n",
              "2            42.000000       0.162500      1\n",
              "3            41.000000       0.187500      1\n",
              "4            45.000000       0.175000      1\n",
              "..                 ...            ...    ...\n",
              "95           57.425381       0.567538      0\n",
              "96           57.455871       0.570587      0\n",
              "97           62.471506       0.584651      0\n",
              "98           46.478691       0.422869      0\n",
              "99           57.516896       0.564190      0\n",
              "\n",
              "[100 rows x 3 columns]"
            ]
          },
          "metadata": {
            "tags": []
          },
          "execution_count": 67
        }
      ]
    },
    {
      "cell_type": "code",
      "metadata": {
        "id": "PZSkJZXs37DS",
        "colab_type": "code",
        "colab": {
          "base_uri": "https://localhost:8080/",
          "height": 419
        },
        "outputId": "23d76666-ca26-46aa-b0bf-c20508a2d0f4"
      },
      "source": [
        "# 데이터 정규화\n",
        "genre_df = (genre_df-genre_df.min())/(genre_df.max()-genre_df.min())\n",
        "genre_df.head(100)"
      ],
      "execution_count": 68,
      "outputs": [
        {
          "output_type": "execute_result",
          "data": {
            "text/html": [
              "<div>\n",
              "<style scoped>\n",
              "    .dataframe tbody tr th:only-of-type {\n",
              "        vertical-align: middle;\n",
              "    }\n",
              "\n",
              "    .dataframe tbody tr th {\n",
              "        vertical-align: top;\n",
              "    }\n",
              "\n",
              "    .dataframe thead th {\n",
              "        text-align: right;\n",
              "    }\n",
              "</style>\n",
              "<table border=\"1\" class=\"dataframe\">\n",
              "  <thead>\n",
              "    <tr style=\"text-align: right;\">\n",
              "      <th></th>\n",
              "      <th>sum_age_mainactors</th>\n",
              "      <th>avg_slap_face</th>\n",
              "      <th>genre</th>\n",
              "    </tr>\n",
              "  </thead>\n",
              "  <tbody>\n",
              "    <tr>\n",
              "      <th>0</th>\n",
              "      <td>0.249195</td>\n",
              "      <td>0.091389</td>\n",
              "      <td>1.0</td>\n",
              "    </tr>\n",
              "    <tr>\n",
              "      <th>1</th>\n",
              "      <td>0.186896</td>\n",
              "      <td>0.091389</td>\n",
              "      <td>1.0</td>\n",
              "    </tr>\n",
              "    <tr>\n",
              "      <th>2</th>\n",
              "      <td>0.124598</td>\n",
              "      <td>0.068542</td>\n",
              "      <td>1.0</td>\n",
              "    </tr>\n",
              "    <tr>\n",
              "      <th>3</th>\n",
              "      <td>0.093448</td>\n",
              "      <td>0.114237</td>\n",
              "      <td>1.0</td>\n",
              "    </tr>\n",
              "    <tr>\n",
              "      <th>4</th>\n",
              "      <td>0.218046</td>\n",
              "      <td>0.091389</td>\n",
              "      <td>1.0</td>\n",
              "    </tr>\n",
              "    <tr>\n",
              "      <th>...</th>\n",
              "      <td>...</td>\n",
              "      <td>...</td>\n",
              "      <td>...</td>\n",
              "    </tr>\n",
              "    <tr>\n",
              "      <th>95</th>\n",
              "      <td>0.605089</td>\n",
              "      <td>0.808866</td>\n",
              "      <td>0.0</td>\n",
              "    </tr>\n",
              "    <tr>\n",
              "      <th>96</th>\n",
              "      <td>0.606039</td>\n",
              "      <td>0.814439</td>\n",
              "      <td>0.0</td>\n",
              "    </tr>\n",
              "    <tr>\n",
              "      <th>97</th>\n",
              "      <td>0.762273</td>\n",
              "      <td>0.840144</td>\n",
              "      <td>0.0</td>\n",
              "    </tr>\n",
              "    <tr>\n",
              "      <th>98</th>\n",
              "      <td>0.264106</td>\n",
              "      <td>0.544442</td>\n",
              "      <td>0.0</td>\n",
              "    </tr>\n",
              "    <tr>\n",
              "      <th>99</th>\n",
              "      <td>0.607940</td>\n",
              "      <td>0.802746</td>\n",
              "      <td>0.0</td>\n",
              "    </tr>\n",
              "  </tbody>\n",
              "</table>\n",
              "<p>100 rows × 3 columns</p>\n",
              "</div>"
            ],
            "text/plain": [
              "    sum_age_mainactors  avg_slap_face  genre\n",
              "0             0.249195       0.091389    1.0\n",
              "1             0.186896       0.091389    1.0\n",
              "2             0.124598       0.068542    1.0\n",
              "3             0.093448       0.114237    1.0\n",
              "4             0.218046       0.091389    1.0\n",
              "..                 ...            ...    ...\n",
              "95            0.605089       0.808866    0.0\n",
              "96            0.606039       0.814439    0.0\n",
              "97            0.762273       0.840144    0.0\n",
              "98            0.264106       0.544442    0.0\n",
              "99            0.607940       0.802746    0.0\n",
              "\n",
              "[100 rows x 3 columns]"
            ]
          },
          "metadata": {
            "tags": []
          },
          "execution_count": 68
        }
      ]
    },
    {
      "cell_type": "code",
      "metadata": {
        "id": "xZqlyi3f3r-l",
        "colab_type": "code",
        "colab": {}
      },
      "source": [
        "# 독립변수, 종속변수 정하기\n",
        "x_1 = genre_df.sum_age_mainactors\n",
        "x_2 = genre_df.avg_slap_face\n",
        "y = genre_df.genre"
      ],
      "execution_count": 0,
      "outputs": []
    },
    {
      "cell_type": "code",
      "metadata": {
        "id": "01XkZiGT3NPb",
        "colab_type": "code",
        "colab": {}
      },
      "source": [
        "# Gradient Descent를 활용한 Logistic Regression 모델 구현\n",
        "w_0, w_1, w_2 = np.random.random(3)\n",
        "\n",
        "loss_history = []\n",
        "w0_history = []\n",
        "w1_history = []\n",
        "w2_history = []\n",
        "\n",
        "lr = 1e-1\n",
        "epoch = 400\n",
        "\n",
        "for i in range(epoch):\n",
        "    z = w_0 + w_1*x_1 + w_2*x_2\n",
        "    prob = 1/(1+np.exp(-z))\n",
        "\n",
        "    dw0 = np.mean(prob-y)\n",
        "    dw1 = np.mean((prob-y)*x_1)\n",
        "    dw2 = np.mean((prob-y)*x_2)\n",
        "\n",
        "    w_0 = w_0 - dw0*lr\n",
        "    w_1 = w_1 - dw1*lr\n",
        "    w_2 = w_2 - dw2*lr\n",
        "\n",
        "    crossentropy = -np.mean(y*np.log(prob) + (1-y)*(np.log(1-prob)))\n",
        "\n",
        "    loss_history.append(crossentropy)\n",
        "    w0_history.append(w_0)\n",
        "    w1_history.append(w_1)\n",
        "    w2_history.append(w_2)"
      ],
      "execution_count": 0,
      "outputs": []
    },
    {
      "cell_type": "code",
      "metadata": {
        "id": "DAebJYSu3Qh8",
        "colab_type": "code",
        "colab": {
          "base_uri": "https://localhost:8080/",
          "height": 281
        },
        "outputId": "e394181b-a0ef-4b4c-c9b4-fc8d621fae99"
      },
      "source": [
        "# 손실함수 그래프 확인\n",
        "plt.title(\"Loss Function\")\n",
        "plt.plot(loss_history)\n",
        "plt.show()"
      ],
      "execution_count": 94,
      "outputs": [
        {
          "output_type": "display_data",
          "data": {
            "image/png": "[encoded data removed]",
            "text/plain": [
              "<Figure size 432x288 with 1 Axes>"
            ]
          },
          "metadata": {
            "tags": [],
            "needs_background": "light"
          }
        }
      ]
    },
    {
      "cell_type": "code",
      "metadata": {
        "id": "mkmKJHN46jH0",
        "colab_type": "code",
        "colab": {}
      },
      "source": [
        "new_w0 = w0_history[-1]"
      ],
      "execution_count": 0,
      "outputs": []
    },
    {
      "cell_type": "code",
      "metadata": {
        "id": "mvzuFIdP644A",
        "colab_type": "code",
        "colab": {}
      },
      "source": [
        "new_w1 = w1_history[-1]\n",
        "new_w2 = w2_history[-1]"
      ],
      "execution_count": 0,
      "outputs": []
    },
    {
      "cell_type": "code",
      "metadata": {
        "id": "G2XWgcAu8YPj",
        "colab_type": "code",
        "colab": {}
      },
      "source": [
        "x_0 = [-new_w0/new_w1, 0]\n",
        "y_0 = [0, -new_w0/new_w2]"
      ],
      "execution_count": 0,
      "outputs": []
    },
    {
      "cell_type": "code",
      "metadata": {
        "id": "WAXox6tn9AL0",
        "colab_type": "code",
        "colab": {
          "base_uri": "https://localhost:8080/",
          "height": 35
        },
        "outputId": "7900e8d4-31b7-4f8f-9829-7b1f7e2c9307"
      },
      "source": [
        "x_0"
      ],
      "execution_count": 98,
      "outputs": [
        {
          "output_type": "execute_result",
          "data": {
            "text/plain": [
              "[1.5331947708217222, 0]"
            ]
          },
          "metadata": {
            "tags": []
          },
          "execution_count": 98
        }
      ]
    },
    {
      "cell_type": "code",
      "metadata": {
        "id": "VK-XOJGu9BSA",
        "colab_type": "code",
        "colab": {
          "base_uri": "https://localhost:8080/",
          "height": 35
        },
        "outputId": "dc913bab-a3a4-426a-b740-ab99e5f7d477"
      },
      "source": [
        "y_0"
      ],
      "execution_count": 99,
      "outputs": [
        {
          "output_type": "execute_result",
          "data": {
            "text/plain": [
              "[0, 0.5401455970160683]"
            ]
          },
          "metadata": {
            "tags": []
          },
          "execution_count": 99
        }
      ]
    },
    {
      "cell_type": "code",
      "metadata": {
        "id": "3NvnRUmi9Dgo",
        "colab_type": "code",
        "colab": {
          "base_uri": "https://localhost:8080/",
          "height": 459
        },
        "outputId": "42590743-17ee-4a91-89e3-63bfac2cdb9c"
      },
      "source": [
        "fig = plt.figure(figsize=(7,7))\n",
        "ax = fig.add_subplot(1,1,1)\n",
        "ax.plot(x_0,y_0) # Decision boundary 그리기\n",
        "\n",
        "# 0: 정상\n",
        "genre_df[genre_df.genre==0].plot('sum_age_mainactors','avg_slap_face',ax=ax,legend=True,\n",
        "                                   kind='scatter',color='red')\n",
        "# 1: 암환자\n",
        "genre_df[genre_df.genre==1].plot('sum_age_mainactors','avg_slap_face',ax=ax,legend=True,\n",
        "                                   kind='scatter',color='green')\n",
        "plt.legend([\"decision\",'melo','teen'])\n",
        "plt.title(\"movie_genre : melo or teen\")\n",
        "plt.show()"
      ],
      "execution_count": 100,
      "outputs": [
        {
          "output_type": "display_data",
          "data": {
            "image/png": "[encoded data removed]",
            "text/plain": [
              "<Figure size 504x504 with 1 Axes>"
            ]
          },
          "metadata": {
            "tags": [],
            "needs_background": "light"
          }
        }
      ]
    },
    {
      "cell_type": "code",
      "metadata": {
        "id": "y2UyQd2O9pjc",
        "colab_type": "code",
        "colab": {}
      },
      "source": [
        ""
      ],
      "execution_count": 0,
      "outputs": []
    }
  ]
}